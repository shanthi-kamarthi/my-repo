{
  "nbformat": 4,
  "nbformat_minor": 0,
  "metadata": {
    "colab": {
      "name": "Food demand forecast",
      "provenance": [],
      "include_colab_link": true
    },
    "kernelspec": {
      "name": "python3",
      "display_name": "Python 3"
    }
  },
  "cells": [
    {
      "cell_type": "markdown",
      "metadata": {
        "id": "view-in-github",
        "colab_type": "text"
      },
      "source": [
        "<a href=\"https://colab.research.google.com/github/shanthi-kamarthi/my-repo/blob/master/Food_demand_forecast.ipynb\" target=\"_parent\"><img src=\"https://colab.research.google.com/assets/colab-badge.svg\" alt=\"Open In Colab\"/></a>"
      ]
    },
    {
      "cell_type": "markdown",
      "metadata": {
        "id": "syIQM8NeqGo1",
        "colab_type": "text"
      },
      "source": [
        "# **Food demand Forecasting**\n",
        "\n",
        "\n",
        "####  **Problem Statement** \n",
        "   Our client is a meal delivery company which operates in multiple cities. They have various fulfillment centers in these cities for dispatching meal orders to their customers. The client wants you to help these centers with demand forecasting for upcoming weeks so that these centers will plan the stock of raw materials accordingly.\n",
        "\n",
        "The replenishment of majority of raw materials is done on weekly basis and since the raw material is perishable, the procurement planning is of utmost importance. Secondly, staffing of the centers is also one area wherein accurate demand forecasts are really helpful. Given the following information, the task is to predict the demand for the next 10 weeks (Weeks: 146-155) for the center-meal combinations in the test set:  \n",
        "\n",
        "Historical data of demand for a product-center combination (Weeks: 1 to 145)\n",
        "Product(Meal) features such as category, sub-category, current price and discount\n",
        "Information for fulfillment center like center area, city information etc."
      ]
    },
    {
      "cell_type": "code",
      "metadata": {
        "id": "jSdLtWQTpsNv",
        "colab_type": "code",
        "colab": {}
      },
      "source": [
        "import pandas as pd\n",
        "import numpy as np"
      ],
      "execution_count": 0,
      "outputs": []
    },
    {
      "cell_type": "code",
      "metadata": {
        "id": "0k3aN2MJp4w1",
        "colab_type": "code",
        "colab": {}
      },
      "source": [
        "from google.colab import files\n",
        "uploaded = files.upload()"
      ],
      "execution_count": 0,
      "outputs": []
    },
    {
      "cell_type": "code",
      "metadata": {
        "id": "_ui-IpAjj02I",
        "colab_type": "code",
        "colab": {}
      },
      "source": [
        "import io\n",
        "center_info = pd.read_csv(io.BytesIO(uploaded['fulfilment_center_info.csv']))\n",
        "meal_info= pd.read_csv(io.BytesIO(uploaded['meal_info.csv']))\n",
        "train = pd.read_csv(io.BytesIO(uploaded['train.csv']))\n",
        "test = pd.read_csv(io.BytesIO(uploaded['test.csv']))"
      ],
      "execution_count": 0,
      "outputs": []
    },
    {
      "cell_type": "code",
      "metadata": {
        "colab_type": "code",
        "outputId": "c318bd3f-2d40-4623-f9af-e8580ec3abb6",
        "id": "ANgQCE0fhEtN",
        "colab": {
          "base_uri": "https://localhost:8080/",
          "height": 493
        }
      },
      "source": [
        "center_info.head(),meal_info.head(),train.head(),test.head()"
      ],
      "execution_count": 30,
      "outputs": [
        {
          "output_type": "execute_result",
          "data": {
            "text/plain": [
              "(   center_id  city_code  region_code center_type  op_area\n",
              " 0         11        679           56      TYPE_A      3.7\n",
              " 1         13        590           56      TYPE_B      6.7\n",
              " 2        124        590           56      TYPE_C      4.0\n",
              " 3         66        648           34      TYPE_A      4.1\n",
              " 4         94        632           34      TYPE_C      3.6,\n",
              "    meal_id   category cuisine\n",
              " 0     1885  Beverages    Thai\n",
              " 1     1993  Beverages    Thai\n",
              " 2     2539  Beverages    Thai\n",
              " 3     1248  Beverages  Indian\n",
              " 4     2631  Beverages  Indian,\n",
              "         id  week  ...  homepage_featured  num_orders\n",
              " 0  1379560     1  ...                  0         177\n",
              " 1  1466964     1  ...                  0         270\n",
              " 2  1346989     1  ...                  0         189\n",
              " 3  1338232     1  ...                  0          54\n",
              " 4  1448490     1  ...                  0          40\n",
              " \n",
              " [5 rows x 9 columns],\n",
              "         id  week  ...  emailer_for_promotion  homepage_featured\n",
              " 0  1028232   146  ...                      0                  0\n",
              " 1  1127204   146  ...                      0                  0\n",
              " 2  1212707   146  ...                      0                  0\n",
              " 3  1082698   146  ...                      0                  0\n",
              " 4  1400926   146  ...                      0                  0\n",
              " \n",
              " [5 rows x 8 columns])"
            ]
          },
          "metadata": {
            "tags": []
          },
          "execution_count": 30
        }
      ]
    },
    {
      "cell_type": "markdown",
      "metadata": {
        "id": "rEPT6VEvpj5E",
        "colab_type": "text"
      },
      "source": [
        "Weekly Demand data (train.csv): Contains the historical demand data for all centers, test.csv contains all the following features except the target variable\n",
        " \n",
        "\n",
        "Variable\tDefinition\n",
        "id\tUnique ID\n",
        "week\tWeek No\n",
        "center_id\tUnique ID for fulfillment center\n",
        "meal_id\tUnique ID for Meal\n",
        "checkout_price\tFinal price including discount, taxes & delivery charges\n",
        "base_price\tBase price of the meal\n",
        "emailer_for_promotion\tEmailer sent for promotion of meal\n",
        "homepage_featured\tMeal featured at homepage\n",
        "num_orders\t(Target) Orders Count\n",
        "   \n",
        "\n",
        "fulfilment_center_info.csv: Contains information for each fulfilment center\n",
        " \n",
        "\n",
        "Variable\tDefinition\n",
        "center_id\tUnique ID for fulfillment center\n",
        "city_code\tUnique code for city\n",
        "region_code\tUnique code for region\n",
        "center_type\tAnonymized center type\n",
        "op_area\tArea of operation (in km^2)\n",
        " \n",
        "\n",
        "meal_info.csv: Contains information for each meal being served\n",
        " \n",
        "\n",
        "Variable\tDefinition\n",
        "meal_id\tUnique ID for the meal\n",
        "category\tType of meal (beverages/snacks/soups….)\n",
        "cuisine\tMeal cuisine (Indian/Italian/…)\n",
        " "
      ]
    },
    {
      "cell_type": "markdown",
      "metadata": {
        "id": "RJ5fbJnsrcHi",
        "colab_type": "text"
      },
      "source": [
        "# New Section\n",
        "\n",
        "*   List item\n",
        "*   List item\n",
        "\n"
      ]
    },
    {
      "cell_type": "code",
      "metadata": {
        "id": "prfkZMGzpUEl",
        "colab_type": "code",
        "colab": {}
      },
      "source": [
        ""
      ],
      "execution_count": 0,
      "outputs": []
    },
    {
      "cell_type": "code",
      "metadata": {
        "id": "lGgvWI96fTTs",
        "colab_type": "code",
        "colab": {}
      },
      "source": [
        ""
      ],
      "execution_count": 0,
      "outputs": []
    },
    {
      "cell_type": "code",
      "metadata": {
        "id": "hNBP1u0LfVEd",
        "colab_type": "code",
        "colab": {}
      },
      "source": [
        ""
      ],
      "execution_count": 0,
      "outputs": []
    },
    {
      "cell_type": "code",
      "metadata": {
        "id": "mOyfniD1fWaj",
        "colab_type": "code",
        "colab": {}
      },
      "source": [
        ""
      ],
      "execution_count": 0,
      "outputs": []
    },
    {
      "cell_type": "code",
      "metadata": {
        "id": "Kfww_M7kfXxd",
        "colab_type": "code",
        "colab": {}
      },
      "source": [
        ""
      ],
      "execution_count": 0,
      "outputs": []
    },
    {
      "cell_type": "code",
      "metadata": {
        "id": "oLtm9LzWfb0z",
        "colab_type": "code",
        "colab": {}
      },
      "source": [
        ""
      ],
      "execution_count": 0,
      "outputs": []
    },
    {
      "cell_type": "code",
      "metadata": {
        "id": "fcsaoO2sfcQ4",
        "colab_type": "code",
        "colab": {}
      },
      "source": [
        ""
      ],
      "execution_count": 0,
      "outputs": []
    },
    {
      "cell_type": "code",
      "metadata": {
        "id": "M6jlydxXfdL1",
        "colab_type": "code",
        "colab": {}
      },
      "source": [
        ""
      ],
      "execution_count": 0,
      "outputs": []
    },
    {
      "cell_type": "code",
      "metadata": {
        "id": "luvhPBRMfdtp",
        "colab_type": "code",
        "colab": {}
      },
      "source": [
        ""
      ],
      "execution_count": 0,
      "outputs": []
    },
    {
      "cell_type": "code",
      "metadata": {
        "id": "HFhvsgqEfeGK",
        "colab_type": "code",
        "colab": {}
      },
      "source": [
        ""
      ],
      "execution_count": 0,
      "outputs": []
    }
  ]
}